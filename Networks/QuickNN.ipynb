{
 "cells": [
  {
   "cell_type": "code",
   "execution_count": 8,
   "metadata": {},
   "outputs": [],
   "source": [
    "# PACKAGES\n",
    "import torch\n",
    "# import utils\n",
    "from joblib import load"
   ]
  },
  {
   "cell_type": "code",
   "execution_count": 6,
   "metadata": {},
   "outputs": [],
   "source": [
    "identifier = '002_20_20'\n",
    "\n",
    "state_dict_path = '../Models/' + 'state_dict_' + identifier\n",
    "structure_path = '../Models/' + 'structure_' + identifier"
   ]
  },
  {
   "cell_type": "code",
   "execution_count": 10,
   "metadata": {},
   "outputs": [
    {
     "data": {
      "text/plain": [
       "{'input_size': 2, 'output_size': 10, 'hidden_sizes': [20, 20]}"
      ]
     },
     "execution_count": 10,
     "metadata": {},
     "output_type": "execute_result"
    }
   ],
   "source": [
    "st = load(structure_path)\n",
    "st"
   ]
  },
  {
   "cell_type": "code",
   "execution_count": 12,
   "metadata": {},
   "outputs": [
    {
     "data": {
      "text/plain": [
       "NetworkReduced(\n",
       "  (hidden_layers): ModuleList(\n",
       "    (0): Linear(in_features=2, out_features=20, bias=True)\n",
       "    (1): Linear(in_features=20, out_features=20, bias=True)\n",
       "  )\n",
       "  (output): Linear(in_features=20, out_features=10, bias=True)\n",
       ")"
      ]
     },
     "execution_count": 12,
     "metadata": {},
     "output_type": "execute_result"
    }
   ],
   "source": [
    "# LOAD:\n",
    "input_size = st['input_size']\n",
    "output_size = st['output_size']\n",
    "hidden_layers = st['hidden_sizes']\n",
    "# lr = 0.0001\n",
    "# drop_p = 0.2\n",
    "model = utils.NetworkReduced(input_size=input_size, output_size=output_size, hidden_layers=hidden_layers)\n",
    "model.load_state_dict(torch.load(state_dict_path))\n",
    "model.eval()"
   ]
  },
  {
   "attachments": {},
   "cell_type": "markdown",
   "metadata": {},
   "source": [
    "## New thing: testing **state2k.py**"
   ]
  },
  {
   "cell_type": "code",
   "execution_count": 1,
   "metadata": {},
   "outputs": [],
   "source": [
    "import state2k as s2k"
   ]
  },
  {
   "cell_type": "code",
   "execution_count": 6,
   "metadata": {},
   "outputs": [
    {
     "data": {
      "text/plain": [
       "NetworkReduced(\n",
       "  (hidden_layers): ModuleList(\n",
       "    (0): Linear(in_features=2, out_features=20, bias=True)\n",
       "    (1): Linear(in_features=20, out_features=40, bias=True)\n",
       "    (2): Linear(in_features=40, out_features=40, bias=True)\n",
       "    (3): Linear(in_features=40, out_features=20, bias=True)\n",
       "  )\n",
       "  (output): Linear(in_features=20, out_features=10, bias=True)\n",
       ")"
      ]
     },
     "execution_count": 6,
     "metadata": {},
     "output_type": "execute_result"
    }
   ],
   "source": [
    "model = s2k.model\n",
    "model"
   ]
  },
  {
   "cell_type": "code",
   "execution_count": 5,
   "metadata": {},
   "outputs": [
    {
     "data": {
      "text/plain": [
       "array([[ 1.0212287e+00, -3.9536333e+00,  3.1084857e+00,  7.4609066e-03,\n",
       "         3.5958600e-01],\n",
       "       [-4.3304684e-03,  1.4914025e+00, -3.6427635e+01, -9.8255177e+00,\n",
       "        -8.9946496e-01]], dtype=float32)"
      ]
     },
     "execution_count": 5,
     "metadata": {},
     "output_type": "execute_result"
    }
   ],
   "source": [
    "state = [14.92, 1492]\n",
    "K = s2k.PredictController(model, state=state)\n",
    "K"
   ]
  }
 ],
 "metadata": {
  "kernelspec": {
   "display_name": "base",
   "language": "python",
   "name": "python3"
  },
  "language_info": {
   "codemirror_mode": {
    "name": "ipython",
    "version": 3
   },
   "file_extension": ".py",
   "mimetype": "text/x-python",
   "name": "python",
   "nbconvert_exporter": "python",
   "pygments_lexer": "ipython3",
   "version": "3.10.9"
  },
  "orig_nbformat": 4
 },
 "nbformat": 4,
 "nbformat_minor": 2
}
